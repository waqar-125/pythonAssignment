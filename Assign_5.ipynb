{
 "cells": [
  {
   "cell_type": "code",
   "execution_count": 5,
   "metadata": {},
   "outputs": [
    {
     "name": "stdin",
     "output_type": "stream",
     "text": [
      "Enter a Positive Number you want Factorial of :  5\n"
     ]
    },
    {
     "name": "stdout",
     "output_type": "stream",
     "text": [
      "Factorial of the number is  120\n"
     ]
    }
   ],
   "source": [
    "# 1 Factorial\n",
    "\n",
    "def fact(a) :\n",
    "    ans = a\n",
    "    while a != 1 :\n",
    "        a = a - 1\n",
    "        ans = ans * a\n",
    "    return ans\n",
    "\n",
    "num = int(input(\"Enter a Positive Number you want Factorial of : \"))\n",
    "if num > 0 :\n",
    "    ans = fact(num)\n",
    "    print(\"Factorial of the number is \", ans)\n",
    "else :\n",
    "    print (\"Please Enter correct integer.\")"
   ]
  },
  {
   "cell_type": "code",
   "execution_count": 6,
   "metadata": {},
   "outputs": [
    {
     "name": "stdin",
     "output_type": "stream",
     "text": [
      "Type a string :  Mushi Khan\n"
     ]
    },
    {
     "name": "stdout",
     "output_type": "stream",
     "text": [
      "Uppercase :  2\n",
      "Lowercase :  7\n"
     ]
    }
   ],
   "source": [
    "# 2 Upper and lower Case Letters\n",
    "\n",
    "string = input (\"Type a string : \")\n",
    "\n",
    "def case( strings ) :\n",
    "    x = 0\n",
    "    y = 0\n",
    "    for a in strings :\n",
    "        if ( a.isupper() ) == True :\n",
    "            x += 1\n",
    "        elif ( a.islower()) == True :\n",
    "            y += 1\n",
    "    print(\"Uppercase : \",x)\n",
    "    print( \"Lowercase : \",y)\n",
    "    \n",
    "case( string )"
   ]
  },
  {
   "cell_type": "code",
   "execution_count": 15,
   "metadata": {},
   "outputs": [
    {
     "name": "stdout",
     "output_type": "stream",
     "text": [
      "10\n",
      "16\n",
      "80\n",
      "202\n"
     ]
    }
   ],
   "source": [
    "# 3 Even Numbers\n",
    "\n",
    "num_list = [1,5,10,16,45,69,80,202]\n",
    "\n",
    "def evennum( listn ) :\n",
    "    if listn % 2 == 0 :\n",
    "        print(listn)\n",
    "\n",
    "x = len( num_list )\n",
    "for a in range (x) :\n",
    "    evennum(num_list[a])"
   ]
  },
  {
   "cell_type": "code",
   "execution_count": 4,
   "metadata": {},
   "outputs": [
    {
     "name": "stdin",
     "output_type": "stream",
     "text": [
      " Type a word to check, is it Palindrome? : wow\n"
     ]
    },
    {
     "name": "stdout",
     "output_type": "stream",
     "text": [
      " The word is Palindrome \n"
     ]
    }
   ],
   "source": [
    "# 4 Palindrome\n",
    "\n",
    "check = input (\" Type a word to check, is it Palindrome? :\")\n",
    "\n",
    "def palndrm(string):\n",
    "    x = 0\n",
    "    y = len(string) - 1\n",
    "\n",
    "    while y >= x :\n",
    "        if not string[x] == string[y]:\n",
    "            return False\n",
    "        x += 1\n",
    "        y -= 1\n",
    "    return True\n",
    "\n",
    "ans = palndrm(check)\n",
    "if ans == True :\n",
    "    print (\" The word is Palindrome \")\n",
    "else :\n",
    "    print (\" The word is not Palindrome \")"
   ]
  },
  {
   "cell_type": "code",
   "execution_count": 1,
   "metadata": {},
   "outputs": [
    {
     "name": "stdin",
     "output_type": "stream",
     "text": [
      "Enter any number :  51\n"
     ]
    },
    {
     "name": "stdout",
     "output_type": "stream",
     "text": [
      "The number is not Prime \n"
     ]
    }
   ],
   "source": [
    "# 5 Prime Numbers\n",
    "\n",
    "num = int(input(\"Enter any number : \"))\n",
    "\n",
    "def primnum( numb ) :\n",
    "    x = numb\n",
    "    y = 2\n",
    "    for a in range (numb) : \n",
    "        if y < numb :\n",
    "            if numb % y != 0 :\n",
    "                y += 1\n",
    "            else :\n",
    "                return False\n",
    "    return True\n",
    "ans = primnum(num)\n",
    "if ans == True :\n",
    "    print (\"The number is Prime \")\n",
    "else :\n",
    "    print (\"The number is not Prime \")"
   ]
  },
  {
   "cell_type": "code",
   "execution_count": 4,
   "metadata": {},
   "outputs": [
    {
     "name": "stdin",
     "output_type": "stream",
     "text": [
      "Enter Items Or Press 'q' to exit :  Milk\n",
      "Enter Items Or Press 'q' to exit :  Orange Juice\n",
      "Enter Items Or Press 'q' to exit :  Bread\n",
      "Enter Items Or Press 'q' to exit :  Toothpaste\n",
      "Enter Items Or Press 'q' to exit :  q\n"
     ]
    },
    {
     "name": "stdout",
     "output_type": "stream",
     "text": [
      "\n",
      "\n",
      "['Milk', 'Orange Juice', 'Bread', 'Toothpaste']\n"
     ]
    }
   ],
   "source": [
    "# 6 Shoping List\n",
    "lists = []\n",
    "sl = ''\n",
    "def slist(*names):\n",
    "    names = input(\"Enter Items Or Press 'q' to exit : \")\n",
    "    if names != 'q' :\n",
    "        lists.append(names)\n",
    "    return names\n",
    "    \n",
    "\n",
    "while sl != 'q' :\n",
    "    sl = slist(sl)\n",
    "\n",
    "print(\"\\n\")\n",
    "print(lists)"
   ]
  },
  {
   "cell_type": "code",
   "execution_count": null,
   "metadata": {},
   "outputs": [],
   "source": []
  }
 ],
 "metadata": {
  "kernelspec": {
   "display_name": "Python 3",
   "language": "python",
   "name": "python3"
  },
  "language_info": {
   "codemirror_mode": {
    "name": "ipython",
    "version": 3
   },
   "file_extension": ".py",
   "mimetype": "text/x-python",
   "name": "python",
   "nbconvert_exporter": "python",
   "pygments_lexer": "ipython3",
   "version": "3.7.3"
  }
 },
 "nbformat": 4,
 "nbformat_minor": 4
}

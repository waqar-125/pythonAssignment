{
 "cells": [
  {
   "cell_type": "code",
   "execution_count": 2,
   "metadata": {},
   "outputs": [
    {
     "name": "stdin",
     "output_type": "stream",
     "text": [
      "Enter Marks of the First Subject =  90\n",
      "Enter Marks of the Second Subject =  85\n",
      "Enter Marks of the Third Subject =  91\n",
      "Enter Marks of the Fourth Subject =  79\n",
      "Enter Marks of the Fifth Subject =  80\n"
     ]
    },
    {
     "name": "stdout",
     "output_type": "stream",
     "text": [
      "Grade 'A'\n"
     ]
    }
   ],
   "source": [
    "sub1=int(input(\"Enter Marks of the First Subject = \"))\n",
    "sub2=int(input(\"Enter Marks of the Second Subject = \"))\n",
    "sub3=int(input(\"Enter Marks of the Third Subject = \"))\n",
    "sub4=int(input(\"Enter Marks of the Fourth Subject = \"))\n",
    "sub5=int(input(\"Enter Marks of the Fifth Subject = \"))\n",
    "\n",
    "avg = (sub1+sub2+sub3+sub4+sub5)/5\n",
    "\n",
    "if(avg>=90):\n",
    "    print (\"Grade 'A+'\")\n",
    "elif ( avg>=80 ):\n",
    "    print(\"Grade 'A'\")\n",
    "elif ( avg>=70 ):\n",
    "    print( \"Grade 'B'\")\n",
    "elif ( avg>=60 ):\n",
    "    print( \"Grade 'C'\")\n",
    "else:\n",
    "    print(\"Sorry! you are 'Fail' \")"
   ]
  },
  {
   "cell_type": "code",
   "execution_count": 1,
   "metadata": {},
   "outputs": [
    {
     "name": "stdin",
     "output_type": "stream",
     "text": [
      "Enter Any Number:  9\n"
     ]
    },
    {
     "name": "stdout",
     "output_type": "stream",
     "text": [
      "This is an Odd Number.\n"
     ]
    }
   ],
   "source": [
    "num = int(input(\"Enter Any Number: \"))\n",
    "mod = num % 2\n",
    "if mod > 0:\n",
    "    print(\"This is an Odd Number.\")\n",
    "else:\n",
    "    print(\"This is an Even Number.\")"
   ]
  },
  {
   "cell_type": "code",
   "execution_count": 1,
   "metadata": {},
   "outputs": [
    {
     "name": "stdout",
     "output_type": "stream",
     "text": [
      "6\n"
     ]
    }
   ],
   "source": [
    "a=[2,6,9,1,7,566]\n",
    "print (len(a))"
   ]
  },
  {
   "cell_type": "code",
   "execution_count": 2,
   "metadata": {},
   "outputs": [
    {
     "name": "stdout",
     "output_type": "stream",
     "text": [
      " Total Sum of Numeric List Is =  380\n"
     ]
    }
   ],
   "source": [
    "Numeric_List=[80,80,60,60,100]\n",
    "x=len(Numeric_List)\n",
    "y=0\n",
    "for i in range (x):\n",
    "    y=y+Numeric_List[i]\n",
    "print (\" Total Sum of Numeric List Is = \",y)"
   ]
  },
  {
   "cell_type": "code",
   "execution_count": 5,
   "metadata": {},
   "outputs": [
    {
     "name": "stdout",
     "output_type": "stream",
     "text": [
      "100\n"
     ]
    }
   ],
   "source": [
    "N=[100,90,60,60,10]\n",
    "print (max(N))"
   ]
  },
  {
   "cell_type": "code",
   "execution_count": 6,
   "metadata": {},
   "outputs": [
    {
     "name": "stdout",
     "output_type": "stream",
     "text": [
      "1\n",
      "1\n",
      "2\n",
      "3\n"
     ]
    }
   ],
   "source": [
    "a = [1, 1, 2, 3, 5, 8, 13, 21, 34, 55, 89]\n",
    "m = len(a)\n",
    "for i in range (m):\n",
    "   if a[i]<5:\n",
    "      print (a[i])"
   ]
  },
  {
   "cell_type": "code",
   "execution_count": null,
   "metadata": {},
   "outputs": [],
   "source": []
  }
 ],
 "metadata": {
  "kernelspec": {
   "display_name": "Python 3",
   "language": "python",
   "name": "python3"
  },
  "language_info": {
   "codemirror_mode": {
    "name": "ipython",
    "version": 3
   },
   "file_extension": ".py",
   "mimetype": "text/x-python",
   "name": "python",
   "nbconvert_exporter": "python",
   "pygments_lexer": "ipython3",
   "version": "3.7.3"
  }
 },
 "nbformat": 4,
 "nbformat_minor": 4
}

{
 "cells": [
  {
   "cell_type": "code",
   "execution_count": 13,
   "metadata": {},
   "outputs": [
    {
     "name": "stdin",
     "output_type": "stream",
     "text": [
      "Enter the First number :  6\n",
      "Chose the Operation you want to perform :  ^\n",
      "Enter the Second number :  3\n"
     ]
    },
    {
     "name": "stdout",
     "output_type": "stream",
     "text": [
      "The Answere is =  216.0\n"
     ]
    }
   ],
   "source": [
    "# Calculator [ Addition, subtraction, multiplication, divission and power function ]\n",
    "\n",
    "value_1 = float(input(\"Enter the First number : \"))\n",
    "operator = input(\"Chose the Operation you want to perform : \")\n",
    "value_2 = float(input(\"Enter the Second number : \"))\n",
    "\n",
    "if operator == '+' :\n",
    "    value = value_1 + value_2\n",
    "    print (\"The Answere is = \", value)\n",
    "elif operator == '-' :\n",
    "    value = value_1 - value_2\n",
    "    print (\"The Answere is = \", value)\n",
    "elif operator == '*' :\n",
    "    value = value_1 * value_2\n",
    "    print (\"The Answere is = \", value)\n",
    "elif operator == '/' :\n",
    "    value = value_1 / value_2\n",
    "    print (\"The Answere is = \", value)\n",
    "elif operator == '^' :\n",
    "    value = float(pow(value_1,value_2))\n",
    "    print (\"The Answere is = \", value)\n",
    "else :\n",
    "    print (\"Please chose the correct Operator\")"
   ]
  },
  {
   "cell_type": "code",
   "execution_count": 2,
   "metadata": {},
   "outputs": [
    {
     "name": "stdout",
     "output_type": "stream",
     "text": [
      "\n",
      "There is a numeric value in the List :  76\n",
      "\n",
      "There is a numeric value in the List :  -7.9\n"
     ]
    }
   ],
   "source": [
    "# Checking Numeric Values in decleared list\n",
    "\n",
    "numeric_list = [+76,\"Waqar\",\"Haider\",-7.9]\n",
    "\n",
    "check_num = 0\n",
    "check_c = 0\n",
    "y = 0\n",
    "z = len(numeric_list)\n",
    "for check_num in numeric_list :\n",
    "    x = type(check_num)\n",
    "    if ( x == int or x == float):\n",
    "        print(\"\\nThere is a numeric value in the List : \",check_num)\n",
    "        y = y + 1\n",
    "\n",
    "if y == 0 :\n",
    "    print (\"\\nThere is no Numeric value in the List\")"
   ]
  },
  {
   "cell_type": "code",
   "execution_count": 3,
   "metadata": {},
   "outputs": [
    {
     "name": "stdout",
     "output_type": "stream",
     "text": [
      "{'F_Name': 'Waqar', 'L_Name': 'Haider', 'Age': 20}\n"
     ]
    },
    {
     "name": "stdin",
     "output_type": "stream",
     "text": [
      "\n",
      "Write the KEY you want to add to this Dictionary :  City\n",
      "Want to add a Value to it. y/n ? :  y\n",
      "Enter the Value :  Karachi\n"
     ]
    },
    {
     "name": "stdout",
     "output_type": "stream",
     "text": [
      "\n",
      "\n",
      "{'F_Name': 'Waqar', 'L_Name': 'Haider', 'Age': 20, 'City': 'Karachi'}\n"
     ]
    }
   ],
   "source": [
    "# Adding New Key to the Dictionary\n",
    "\n",
    "dictionary_names = {\"F_Name\":\"Waqar\",\n",
    "                    \"L_Name\":\"Haider\",\n",
    "                    \"Age\":20}\n",
    "print(dictionary_names)\n",
    "key = input(\"\\nWrite the KEY you want to add to this Dictionary : \")\n",
    "option = input(\"Want to add a Value to it. y/n ? : \")\n",
    "\n",
    "if option == 'y' :\n",
    "    value = input(\"Enter the Value : \")\n",
    "    dictionary_names[key] = value\n",
    "if option == 'n' :\n",
    "    dictionary_names[key] = ''\n",
    "    \n",
    "print(\"\\n\")\n",
    "print(dictionary_names)"
   ]
  },
  {
   "cell_type": "code",
   "execution_count": 4,
   "metadata": {},
   "outputs": [
    {
     "name": "stdout",
     "output_type": "stream",
     "text": [
      "\n",
      "The sum of all Numeric_items in List is =  26.1\n"
     ]
    }
   ],
   "source": [
    "# Summation of Dictionary Numeric Values\n",
    "\n",
    "dictionary = {\"F_Name\":\"Waqar\",\n",
    "              \"L_Name\":\"Astori\",\n",
    "              \"Age\":20,\n",
    "              \"Hight\":6.1\n",
    "             }\n",
    "sum0 = 0\n",
    "sum1 = 0\n",
    "x = 0\n",
    "y = 0\n",
    "for x in dictionary.keys() :\n",
    "    a = type( x )\n",
    "    if ( a == int or a == float ) :\n",
    "        sum0 = x + sum0\n",
    "\n",
    "    \n",
    "    \n",
    "for y in dictionary.values() :\n",
    "    b = type( y )\n",
    "    if ( b == int or b == float ) :\n",
    "        sum1 = y + sum1\n",
    "        \n",
    "sumall = sum0 + sum1\n",
    "            \n",
    "print(\"\\nThe sum of all Numeric_items in List is = \",sumall)"
   ]
  },
  {
   "cell_type": "code",
   "execution_count": 5,
   "metadata": {},
   "outputs": [
    {
     "name": "stdin",
     "output_type": "stream",
     "text": [
      "\n",
      "Write the KEY you want to add to this Dictionary :  Address\n",
      "Enter the Value for this Key :  Gulshan\n"
     ]
    },
    {
     "name": "stdout",
     "output_type": "stream",
     "text": [
      "{'F_Name': 'Waqar', 'L_Name': 'Astori', 'Age': 20, 'Hight': 6.1, 'Address': 'Gulshan'}\n"
     ]
    }
   ],
   "source": [
    "# Key existance in Dictionary ?\n",
    "\n",
    "dictionary_names = {\"F_Name\":\"Waqar\",\n",
    "                    \"L_Name\":\"Astori\",\n",
    "                    \"Age\":20,\n",
    "                    \"Hight\":6.1\n",
    "                    }\n",
    "key = input(\"\\nWrite the KEY you want to add to this Dictionary : \")\n",
    "check_key = 0\n",
    "a = 0\n",
    "for check_key in dictionary_names.keys() :\n",
    "    if check_key == key :\n",
    "        print (\" The Key is Already exists\")\n",
    "        a = a + 1\n",
    "        break\n",
    "if a == 0 :\n",
    "    val = input(\"Enter the Value for this Key : \")\n",
    "    dictionary_names[key] = val\n",
    "\n",
    "print(dictionary_names)"
   ]
  },
  {
   "cell_type": "code",
   "execution_count": null,
   "metadata": {},
   "outputs": [],
   "source": []
  }
 ],
 "metadata": {
  "kernelspec": {
   "display_name": "Python 3",
   "language": "python",
   "name": "python3"
  },
  "language_info": {
   "codemirror_mode": {
    "name": "ipython",
    "version": 3
   },
   "file_extension": ".py",
   "mimetype": "text/x-python",
   "name": "python",
   "nbconvert_exporter": "python",
   "pygments_lexer": "ipython3",
   "version": "3.7.3"
  }
 },
 "nbformat": 4,
 "nbformat_minor": 4
}

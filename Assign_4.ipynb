{
 "cells": [
  {
   "cell_type": "code",
   "execution_count": 9,
   "metadata": {},
   "outputs": [
    {
     "name": "stdout",
     "output_type": "stream",
     "text": [
      "{'first_name': 'Piyar', 'last_name': 'Ali', 'age': 22, 'city': 'Karachi'}\n",
      "\n",
      "{'first_name': 'Piyar', 'last_name': 'Ali', 'age': 22, 'city': 'Karachi', 'Qualification': 'F.sc'}\n",
      "\n",
      "{'first_name': 'Piyar', 'last_name': 'Ali', 'age': 22, 'city': 'Karachi'}\n"
     ]
    }
   ],
   "source": [
    "# 1\n",
    "\n",
    "friend_info = {\n",
    "    \"first_name\" : \"Piyar\",\n",
    "    \"last_name\" : \"Ali\",\n",
    "    \"age\" : 22,\n",
    "    \"city\" : \"Karachi\"\n",
    "}\n",
    "print(friend_info)\n",
    "friend_info[\"Qualification\"] = \"F.sc\"\n",
    "print(\"\\n\" + str(friend_info))\n",
    "\n",
    "del friend_info[\"Qualification\"]\n",
    "print(\"\\n\" + str(friend_info))"
   ]
  },
  {
   "cell_type": "code",
   "execution_count": 10,
   "metadata": {},
   "outputs": [
    {
     "data": {
      "text/plain": [
       "{'Karachi': {'country': 'Pakistan',\n",
       "  'population': '15.741million',\n",
       "  'fact': 'The City of Lights'},\n",
       " 'Tokyo': {'country': 'Japan',\n",
       "  'population': '37.4million',\n",
       "  'fact': 'Most populated city in the world!)'},\n",
       " 'Venice': {'country': 'Italy',\n",
       "  'population': '0.636million',\n",
       "  'fact': 'Most Beautiful city in the World'}}"
      ]
     },
     "execution_count": 10,
     "metadata": {},
     "output_type": "execute_result"
    }
   ],
   "source": [
    "# 2\n",
    "\n",
    "cities = {\n",
    "    \"Karachi\" : {\n",
    "        \"country\" : \"Pakistan\", \n",
    "        \"population\" : str(15.741) + \"million\",\n",
    "        \"fact\" : \"The City of Lights\"\n",
    "    },\n",
    "    \"Tokyo\" : {\n",
    "        \"country\" : \"Japan\", \n",
    "        \"population\" : str(37.4) + \"million\",\n",
    "        \"fact\" : \"Most populated city in the world!)\"\n",
    "    },\n",
    "    \"Venice\" : {\n",
    "        \"country\" : \"Italy\", \n",
    "        \"population\" : str(0.636) + \"million\",\n",
    "        \"fact\" : \"Most Beautiful city in the World\" \n",
    "    }\n",
    "}\n",
    "\n",
    "cities"
   ]
  },
  {
   "cell_type": "code",
   "execution_count": 11,
   "metadata": {},
   "outputs": [
    {
     "name": "stdin",
     "output_type": "stream",
     "text": [
      "Enter your Age :  10\n"
     ]
    },
    {
     "name": "stdout",
     "output_type": "stream",
     "text": [
      "You will be cherged $ 10\n"
     ]
    }
   ],
   "source": [
    "# 3\n",
    "\n",
    "age_list = [3 , 12]\n",
    "age = int(input(\"Enter your Age : \"))\n",
    "for check in age_list :\n",
    "    if age < 3 :\n",
    "        print (\"You will not be charged for movie\")\n",
    "        break\n",
    "    elif age <= 12 :\n",
    "        print (\"You will be cherged \" + \"$ \" + str(10))\n",
    "        break\n",
    "    elif age > 12 :\n",
    "        print (\"You will be cherged \" + \"$ \" + str(15))\n",
    "        break\n"
   ]
  },
  {
   "cell_type": "code",
   "execution_count": 12,
   "metadata": {},
   "outputs": [
    {
     "name": "stdin",
     "output_type": "stream",
     "text": [
      "Write the title for the book : Invisible Man\n"
     ]
    },
    {
     "name": "stdout",
     "output_type": "stream",
     "text": [
      "\n",
      "Addresses the issues faced by african american in the early 2000\n"
     ]
    }
   ],
   "source": [
    "# 4\n",
    "\n",
    "def favorite_book (title) :\n",
    "    if title == \"Lolita\" :\n",
    "        print (\"\\n\" + \"Lolita is internationally infamous for its controversial subject\")\n",
    "    elif title == \"Twilight\" :\n",
    "        print (\"\\n\" + \"Alice is my Most Favorite charachter of story of Twilight\")\n",
    "    elif title == \"Invisible Man\" :\n",
    "        print (\"\\n\" + \"Addresses the issues faced by african american in the early 2000\")\n",
    "\n",
    "favorite_book ( input(\"Write the title for the book :\"))"
   ]
  },
  {
   "cell_type": "code",
   "execution_count": 13,
   "metadata": {},
   "outputs": [
    {
     "name": "stdout",
     "output_type": "stream",
     "text": [
      "5\n"
     ]
    },
    {
     "name": "stdin",
     "output_type": "stream",
     "text": [
      "Guess the number X in between 1-30. Enter the number :  10\n",
      "\n",
      "Try again.\n",
      "The number is smaller :  5\n"
     ]
    },
    {
     "name": "stdout",
     "output_type": "stream",
     "text": [
      "\n",
      "You guess the Right number 5\n"
     ]
    }
   ],
   "source": [
    "# 5\n",
    "\n",
    "from random import *\n",
    "rand = randint(1, 30)\n",
    "\n",
    "gues = int(input(\"Guess the number X in between 1-30. Enter the number : \"))\n",
    "a = 0\n",
    "\n",
    "def rand_guess ( a , rand , guess ) :\n",
    "    a = a + 1\n",
    "    if rand == guess :\n",
    "            print (\"\\n\" + \"You guess the Right number \" + str(rand))\n",
    "    else :\n",
    "        if a == 3 :\n",
    "            print (\"\\n\" + \"Sorry, Better luck next time.\")\n",
    "    \n",
    "    if a < 3 :\n",
    "        if guess > rand :\n",
    "            gues = int(input(\"\\n\" + \"Try again.\" + \"\\n\" + \"The number is smaller : \"))\n",
    "            rand_guess( a , rand , gues )\n",
    "        if guess < rand :\n",
    "            gues = int(input(\"\\n\" + \"Try again.\" + \"\\n\" + \"The number is greater : \"))\n",
    "            rand_guess( a , rand , gues )\n",
    "\n",
    "rand_guess ( a , rand , gues )\n"
   ]
  },
  {
   "cell_type": "code",
   "execution_count": null,
   "metadata": {},
   "outputs": [],
   "source": []
  }
 ],
 "metadata": {
  "kernelspec": {
   "display_name": "Python 3",
   "language": "python",
   "name": "python3"
  },
  "language_info": {
   "codemirror_mode": {
    "name": "ipython",
    "version": 3
   },
   "file_extension": ".py",
   "mimetype": "text/x-python",
   "name": "python",
   "nbconvert_exporter": "python",
   "pygments_lexer": "ipython3",
   "version": "3.7.3"
  }
 },
 "nbformat": 4,
 "nbformat_minor": 4
}

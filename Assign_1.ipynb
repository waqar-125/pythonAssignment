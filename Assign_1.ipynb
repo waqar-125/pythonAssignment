{
 "cells": [
  {
   "cell_type": "code",
   "execution_count": 1,
   "metadata": {},
   "outputs": [
    {
     "name": "stdout",
     "output_type": "stream",
     "text": [
      "twinkle, twinkle, little star,\n",
      "    how i wonder what you are!\n",
      "        up above the world so high,\n",
      "        like a diamond in the sky.\n",
      "twinkle, twinkle, little star,\n",
      "    how i wonder what you are!\n",
      "\n"
     ]
    }
   ],
   "source": [
    "w=\"twinkle,\"\n",
    "x=\"little star,\"\n",
    "z=\"how i wonder what you are!\"\n",
    "a=\"up above the world so high,\"\n",
    "b=\"like a diamond in the sky.\"\n",
    "\n",
    "print(w+\" \" +w+\" \"+x+\"\\n \"           \"   \"+z+\"\\n\"     \"        \"+a+\"\\n\"\n",
    "      \"        \"+b+\"\\n\"     +w+\" \" +w+\" \"+x+\"\\n \"           \"   \"+z+\"\\n\")"
   ]
  },
  {
   "cell_type": "code",
   "execution_count": 2,
   "metadata": {},
   "outputs": [
    {
     "name": "stdout",
     "output_type": "stream",
     "text": [
      "3.7.3\n",
      "2019-11-21 15:28:21.134910\n"
     ]
    }
   ],
   "source": [
    "import platform\n",
    "print(platform.python_version())\n",
    "import datetime\n",
    "print(datetime.datetime.now())"
   ]
  },
  {
   "cell_type": "code",
   "execution_count": 4,
   "metadata": {},
   "outputs": [
    {
     "name": "stdin",
     "output_type": "stream",
     "text": [
      "enter the radius 5\n"
     ]
    },
    {
     "name": "stdout",
     "output_type": "stream",
     "text": [
      "78.5\n"
     ]
    }
   ],
   "source": [
    "r=int(input(\"enter the radius\"))\n",
    "pi=3.14\n",
    "r2 =r*r\n",
    "area=float(r2)*pi\n",
    "print(area)"
   ]
  },
  {
   "cell_type": "code",
   "execution_count": 5,
   "metadata": {},
   "outputs": [
    {
     "name": "stdin",
     "output_type": "stream",
     "text": [
      "enter the first number 89\n",
      "enter the seconde number 65\n"
     ]
    },
    {
     "name": "stdout",
     "output_type": "stream",
     "text": [
      "154\n"
     ]
    }
   ],
   "source": [
    "num1=int(input(\"enter the first number\"))\n",
    "num2=int(input(\"enter the seconde number\") )\n",
    "add=num1+num2\n",
    "\n",
    "print(add)"
   ]
  },
  {
   "cell_type": "code",
   "execution_count": 8,
   "metadata": {},
   "outputs": [
    {
     "name": "stdin",
     "output_type": "stream",
     "text": [
      "enter your first name  Mushi\n",
      "enter you last name  Khan\n"
     ]
    },
    {
     "name": "stdout",
     "output_type": "stream",
     "text": [
      "\n",
      "Khan Mushi\n"
     ]
    }
   ],
   "source": [
    "fname=input(\"enter your first name \")\n",
    "lname=input(\"enter you last name \")\n",
    "print(\"\\n\"+ lname+\" \"+fname)"
   ]
  },
  {
   "cell_type": "code",
   "execution_count": null,
   "metadata": {},
   "outputs": [],
   "source": []
  }
 ],
 "metadata": {
  "kernelspec": {
   "display_name": "Python 3",
   "language": "python",
   "name": "python3"
  },
  "language_info": {
   "codemirror_mode": {
    "name": "ipython",
    "version": 3
   },
   "file_extension": ".py",
   "mimetype": "text/x-python",
   "name": "python",
   "nbconvert_exporter": "python",
   "pygments_lexer": "ipython3",
   "version": "3.7.3"
  }
 },
 "nbformat": 4,
 "nbformat_minor": 4
}
